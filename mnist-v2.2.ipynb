{
 "metadata": {
  "language": "lua",
  "name": "",
  "signature": "sha256:6b02f57046c0c0b8986e36bbc91919d987f087830d83b1279f52ee081b1e4d22"
 },
 "nbformat": 3,
 "nbformat_minor": 0,
 "worksheets": [
  {
   "cells": [
    {
     "cell_type": "code",
     "collapsed": false,
     "input": [
      "require 'torch'\n",
      "require 'nn'\n",
      "require 'dataset-mnist'\n",
      "require 'optim'\n",
      "\n",
      "\n",
      "trainData = mnist.loadTrainSet(60000, {32,32})\n",
      "trainData:normalizeGlobal(mean, std)\n",
      "\n",
      "testData = mnist.loadTestSet(1000, {32,32})\n",
      "testData:normalizeGlobal(mean, std)\n",
      "\n",
      "torch.setnumthreads(4)\n",
      "\n",
      "torch.setdefaulttensortype('torch.DoubleTensor')\n",
      "\n",
      "batchSize=1000\n",
      "learningRate=0.05\n",
      "\n",
      "print('<torch> set nb of threads to ' .. torch.getnumthreads())\n"
     ],
     "language": "python",
     "metadata": {},
     "outputs": [
      {
       "metadata": {},
       "output_type": "pyout",
       "prompt_number": 1,
       "text": [
        "<mnist> done\t\n"
       ]
      },
      {
       "metadata": {},
       "output_type": "pyout",
       "prompt_number": 1,
       "text": [
        "<mnist> loading only 1000 examples\t\n",
        "<mnist> done\t\n"
       ]
      },
      {
       "metadata": {},
       "output_type": "pyout",
       "prompt_number": 1,
       "text": [
        "<torch> set nb of threads to 4\t\n"
       ]
      }
     ],
     "prompt_number": 1
    },
    {
     "cell_type": "code",
     "collapsed": false,
     "input": [
      "print('Training Data:')\n",
      "print(trainData)\n",
      "print()\n",
      "print('Test Data:')\n",
      "print(testData)\n",
      "print()"
     ],
     "language": "python",
     "metadata": {},
     "outputs": [
      {
       "metadata": {},
       "output_type": "pyout",
       "prompt_number": 2,
       "text": [
        "Training Data:\t\n",
        "{\n",
        "  data : DoubleTensor - size: 60000x1x32x32\n",
        "  normalize : function: 0xb09eb058\n",
        "  labels : ByteTensor - size: 60000\n",
        "  normalizeGlobal : function: 0xb09eb100\n",
        "  size : function: 0xb09eb120\n",
        "}\n",
        "\n",
        "Test Data:\t\n",
        "{\n",
        "  data : DoubleTensor - size: 1000x1x32x32\n",
        "  normalize : function: 0xb09ebeb8\n",
        "  labels : ByteTensor - size: 1000\n",
        "  normalizeGlobal : function: 0xb09ebf60\n",
        "  size : function: 0xb09ebf80\n",
        "}\n",
        "\n"
       ]
      }
     ],
     "prompt_number": 2
    },
    {
     "cell_type": "code",
     "collapsed": false,
     "input": [
      "print('Training Data:')\n",
      "itorch.image(trainData.data[{ {1,10} }])"
     ],
     "language": "python",
     "metadata": {},
     "outputs": [
      {
       "metadata": {},
       "output_type": "pyout",
       "prompt_number": 3,
       "text": [
        "Training Data:\t\n"
       ]
      },
      {
       "metadata": {
        "png": {
         "height": 68,
         "width": 204
        }
       },
       "output_type": "display_data",
       "png": "[encoded data removed]",
       "text": [
        "Console does not support images"
       ]
      }
     ],
     "prompt_number": 3
    },
    {
     "cell_type": "code",
     "collapsed": false,
     "input": [
      "print('Test Data:')\n",
      "itorch.image(testData.data[{ {1,10} }])"
     ],
     "language": "python",
     "metadata": {},
     "outputs": [
      {
       "metadata": {},
       "output_type": "pyout",
       "prompt_number": 4,
       "text": [
        "Test Data:\t\n"
       ]
      },
      {
       "metadata": {
        "png": {
         "height": 68,
         "width": 204
        }
       },
       "output_type": "display_data",
       "png": "[encoded data removed]",
       "text": [
        "Console does not support images"
       ]
      }
     ],
     "prompt_number": 4
    },
    {
     "cell_type": "code",
     "collapsed": false,
     "input": [
      "mlp = nn.Sequential()\n",
      "mlp:add(nn.Reshape(1024))\n",
      "mlp:add(nn.Linear(1024,2048)) \n",
      "mlp:add(nn.Tanh())\n",
      "mlp:add(nn.Linear(2048,10))\n",
      "mlp:add(nn.LogSoftMax())\n",
      "\n",
      "criterion = nn.ClassNLLCriterion()\n",
      "classes = {'1','2','3','4','5','6','7','8','9','0'}\n",
      "confusion = optim.ConfusionMatrix(classes)\n",
      "parameters,gradParameters = mlp:getParameters()"
     ],
     "language": "python",
     "metadata": {},
     "outputs": [],
     "prompt_number": 7
    },
    {
     "cell_type": "code",
     "collapsed": false,
     "input": [
      "function Train(data)\n",
      "    local time = sys.clock()\n",
      "    print('SGD on training set:')\n",
      "    print('with batchSize = ' .. batchSize .. '.')\n",
      "    for t=1,data:size(),batchSize do\n",
      "        xlua.progress(t, data:size())\n",
      "        local Inputs = torch.Tensor(batchSize,1,32,32)\n",
      "        local Targets = torch.Tensor(batchSize)\n",
      "        local k = 1\n",
      "        for i=t,math.min(t+batchSize-1,data:size()) do\n",
      "            local dataSlice = data[i]\n",
      "            local Input = dataSlice[1]:clone()\n",
      "            local _,Target = dataSlice[2]:clone():max(1)\n",
      "            Target = Target:squeeze()\n",
      "            Inputs[k] = Input\n",
      "            Targets[k] = Target\n",
      "            k=k+1\n",
      "        end\n",
      "        \n",
      "        local Evaluation = function()\n",
      "            gradParameters:zero()\n",
      "            local Outputs = mlp:forward(Inputs)\n",
      "            local f = criterion:forward(Outputs,Targets)\n",
      "            local df_dw = criterion:backward(Outputs,Targets)\n",
      "            mlp:backward(Inputs,df_dw)\n",
      "            \n",
      "            for i=1,batchSize do\n",
      "                confusion:add(Outputs[i],Targets[i])\n",
      "            end\n",
      "            \n",
      "            return f,gradParameters\n",
      "        end\n",
      "        sgdState = {\n",
      "            learningRate = learningRate,\n",
      "            momentum,\n",
      "            learningRateDecay = 5e-7\n",
      "        }\n",
      "        optim.sgd(Evaluation, parameters, sgdState)\n",
      "        \n",
      "    end\n",
      "\n",
      "    time = sys.clock() - time\n",
      "    time = time / data:size()\n",
      "    print(\"Time to learn 1 sample = \" .. (time*1000) .. 'ms')\n",
      "    print(confusion)\n",
      "    confusion:zero()\n",
      "end"
     ],
     "language": "python",
     "metadata": {},
     "outputs": [],
     "prompt_number": 4
    },
    {
     "cell_type": "code",
     "collapsed": false,
     "input": [
      "function Test(data)\n",
      "    local time = sys.clock()\n",
      "    print('SGD on testing set:')\n",
      "    print('with batchSize = ' .. batchSize .. '.')\n",
      "    for t = 1,data:size(),batchSize do\n",
      "       xlua.progress(t, data:size())\n",
      "       local Inputs = torch.Tensor(batchSize,1,32,32)\n",
      "       local Targets = torch.Tensor(batchSize)\n",
      "       local k = 1\n",
      "       for i = t,math.min(t+batchSize-1,data:size()) do\n",
      "          local dataSlice = data[i]\n",
      "          local Input = dataSlice[1]:clone()\n",
      "          local _,Target = dataSlice[2]:clone():max(1)\n",
      "          Target = Target:squeeze()\n",
      "          Inputs[k] = Input\n",
      "          Targets[k] = Target\n",
      "          k = k + 1\n",
      "       end\n",
      "\n",
      "       local Predictions = mlp:forward(Inputs)\n",
      "\n",
      "       for i = 1,batchSize do\n",
      "          confusion:add(Predictions[i], Targets[i])\n",
      "       end\n",
      "    end\n",
      "\n",
      "    time = sys.clock() - time\n",
      "    time = time / data:size()\n",
      "    print(\"<Time to test 1 sample = \" .. (time*1000) .. 'ms')\n",
      "    print(confusion)\n",
      "    confusion:zero()\n",
      "end"
     ],
     "language": "python",
     "metadata": {},
     "outputs": [],
     "prompt_number": 5
    },
    {
     "cell_type": "code",
     "collapsed": false,
     "input": [
      "Train(trainData)"
     ],
     "language": "python",
     "metadata": {},
     "outputs": [
      {
       "metadata": {},
       "output_type": "pyout",
       "prompt_number": 8,
       "text": [
        "SGD on training set:\t\n",
        "with batchSize = 1000.\t\n"
       ]
      },
      {
       "metadata": {},
       "output_type": "pyout",
       "prompt_number": 8,
       "text": [
        "Progress: 8001 / 60000\t\n"
       ]
      },
      {
       "metadata": {},
       "output_type": "pyout",
       "prompt_number": 8,
       "text": [
        "Progress: 20001 / 60000\t\n"
       ]
      },
      {
       "metadata": {},
       "output_type": "pyout",
       "prompt_number": 8,
       "text": [
        "Progress: 32001 / 60000\t\n"
       ]
      },
      {
       "metadata": {},
       "output_type": "pyout",
       "prompt_number": 8,
       "text": [
        "Progress: 44001 / 60000\t\n"
       ]
      },
      {
       "metadata": {},
       "output_type": "pyout",
       "prompt_number": 8,
       "text": [
        "Progress: 56001 / 60000\t\n"
       ]
      },
      {
       "metadata": {},
       "output_type": "pyout",
       "prompt_number": 8,
       "text": [
        "Time to learn 1 sample = 2.8832622170448ms\t\n",
        "ConfusionMatrix:\n",
        "[[    5512      14      28      26      26      49     109      27     100      32]   93.061% \t[class: 1]\n",
        " [       3    6434      35      24      13      63      26      36      98      10]   95.432% \t[class: 2]\n",
        " [      84     214    4795     116     120      10     205     147     208      59]   80.480% \t[class: 3]\n",
        " [      62     164     187    4986      19     240      67     102     202     102]   81.324% \t[class: 4]\n",
        " [      16      62      41       4    5022       9     184      37      35     432]   85.964% \t[class: 5]\n",
        " [     160     225      38     559     133    3705     199      74     142     186]   68.345% \t[class: 6]\n",
        " [      68      99     106       5      78      92    5380      26      52      12]   90.909% \t[class: 7]\n",
        " [      61     178      86      23     161      13      59    5416      18     250]   86.449% \t[class: 8]\n",
        " [      64     278      84     392      60     156     108      66    4479     164]   76.551% \t[class: 9]\n",
        " [      68      76      38      98     395      34      94     345      50    4751]]  79.862% \t[class: 0]\n",
        " + average row correct: 83.837683796883% \n",
        " + average rowUcol correct (VOC measure): 72.455403804779% \n",
        " + global correct: 84.133333333333%\n",
        "{\n",
        "  valids : FloatTensor - size: 10\n",
        "  mat : LongTensor - size: 10x10\n",
        "  averageUnionValid : 0.72455403804779\n",
        "  _targ_idx : LongTensor - empty\n",
        "  averageValid : 0.83837683796883\n",
        "  classes : \n",
        "    {\n",
        "      1 : 1\n",
        "      2 : 2\n",
        "      3 : 3\n",
        "      4 : 4\n",
        "      5 : 5\n",
        "      6 : 6\n",
        "      7 : 7\n",
        "      8 : 8\n",
        "      9 : 9\n",
        "      10 : 0\n",
        "    }\n",
        "  _prediction : FloatTensor - size: 10\n",
        "  _pred_idx : LongTensor - size: 1\n",
        "  nclasses : 10\n",
        "  _max : FloatTensor - size: 1\n",
        "  _target : FloatTensor - empty\n",
        "  unionvalids : FloatTensor - size: 10\n",
        "  totalValid : 0.84133333333333\n",
        "}\n",
        "\n"
       ]
      }
     ],
     "prompt_number": 8
    },
    {
     "cell_type": "code",
     "collapsed": false,
     "input": [
      "Test(testData)"
     ],
     "language": "python",
     "metadata": {},
     "outputs": [
      {
       "metadata": {},
       "output_type": "pyout",
       "prompt_number": 9,
       "text": [
        "SGD on testing set:\t\n",
        "with batchSize = 1000.\t\n"
       ]
      },
      {
       "metadata": {},
       "output_type": "pyout",
       "prompt_number": 9,
       "text": [
        "<Time to test 1 sample = 0.90735697746277ms\t\n",
        "ConfusionMatrix:\n",
        "[[      82       0       0       0       0       1       2       0       0       0]   96.471% \t[class: 1]\n",
        " [       0     123       0       1       0       0       1       0       1       0]   97.619% \t[class: 2]\n",
        " [       1       2      96       4       0       0       1       4       6       2]   82.759% \t[class: 3]\n",
        " [       0       0       1      88       0       9       2       3       3       1]   82.243% \t[class: 4]\n",
        " [       0       1       0       0      95       1       3       0       1       9]   86.364% \t[class: 5]\n",
        " [       3       1       0       3       0      74       1       1       3       1]   85.057% \t[class: 6]\n",
        " [       3       0       0       0       1       3      80       0       0       0]   91.954% \t[class: 7]\n",
        " [       0       6       2       0       3       0       0      81       1       6]   81.818% \t[class: 8]\n",
        " [       1       0       1       4       2       3       1       2      73       2]   82.022% \t[class: 9]\n",
        " [       0       1       0       1       3       0       0       1       2      86]]  91.489% \t[class: 0]\n",
        " + average row correct: 87.779639363289% \n",
        " + average rowUcol correct (VOC measure): 78.119173049927% \n",
        " + global correct: 87.8%\n",
        "{\n",
        "  valids : FloatTensor - size: 10\n",
        "  mat : LongTensor - size: 10x10\n",
        "  averageUnionValid : 0.78119173049927\n",
        "  _targ_idx : LongTensor - empty\n",
        "  averageValid : 0.87779639363289\n",
        "  classes : \n",
        "    {\n",
        "      1 : 1\n",
        "      2 : 2\n",
        "      3 : 3\n",
        "      4 : 4\n",
        "      5 : 5\n",
        "      6 : 6\n",
        "      7 : 7\n",
        "      8 : 8\n",
        "      9 : 9\n",
        "      10 : 0\n",
        "    }\n",
        "  _prediction : FloatTensor - size: 10\n",
        "  _pred_idx : LongTensor - size: 1\n",
        "  nclasses : 10\n",
        "  _max : FloatTensor - size: 1\n",
        "  _target : FloatTensor - empty\n",
        "  unionvalids : FloatTensor - size: 10\n",
        "  totalValid : 0.878\n",
        "}\n",
        "\n"
       ]
      }
     ],
     "prompt_number": 9
    },
    {
     "cell_type": "code",
     "collapsed": false,
     "input": [],
     "language": "python",
     "metadata": {},
     "outputs": []
    }
   ],
   "metadata": {}
  }
 ]
}