{
 "metadata": {
  "language": "lua",
  "name": "",
  "signature": "sha256:37e183a7fc697df0ec454818c3d8bd4be356c11def90c48cc89c53985af90ab1"
 },
 "nbformat": 3,
 "nbformat_minor": 0,
 "worksheets": [
  {
   "cells": [
    {
     "cell_type": "code",
     "collapsed": false,
     "input": [
      "require 'torch'\n",
      "require 'nn'\n",
      "require 'dataset-mnist'\n",
      "require 'optim'\n",
      "\n",
      "\n",
      "trainData = mnist.loadTrainSet(10000, {32,32})\n",
      "trainData:normalizeGlobal(mean, std)\n",
      "\n",
      "testData = mnist.loadTestSet(1000, {32,32})\n",
      "testData:normalizeGlobal(mean, std)\n",
      "\n",
      "torch.setnumthreads(4)\n",
      "\n",
      "torch.setdefaulttensortype('torch.DoubleTensor')\n",
      "\n",
      "batchSize=100\n",
      "learningRate=0.1\n",
      "\n",
      "print('<torch> set nb of threads to ' .. torch.getnumthreads())\n"
     ],
     "language": "python",
     "metadata": {},
     "outputs": [
      {
       "metadata": {},
       "output_type": "pyout",
       "prompt_number": 13,
       "text": [
        "<mnist> loading only 10000 examples\t\n",
        "<mnist> done\t\n"
       ]
      },
      {
       "metadata": {},
       "output_type": "pyout",
       "prompt_number": 13,
       "text": [
        "<mnist> loading only 1000 examples\t\n",
        "<mnist> done\t\n"
       ]
      },
      {
       "metadata": {},
       "output_type": "pyout",
       "prompt_number": 13,
       "text": [
        "<torch> set nb of threads to 4\t\n"
       ]
      }
     ],
     "prompt_number": 13
    },
    {
     "cell_type": "code",
     "collapsed": false,
     "input": [
      "print('Training Data:')\n",
      "print(trainData)\n",
      "print()\n",
      "print('Test Data:')\n",
      "print(testData)\n",
      "print()"
     ],
     "language": "python",
     "metadata": {},
     "outputs": [
      {
       "metadata": {},
       "output_type": "pyout",
       "prompt_number": 23,
       "text": [
        "Training Data:\t\n",
        "{\n",
        "  data : FloatTensor - size: 10000x1x32x32\n",
        "  normalize : function: 0xaf06bf48\n",
        "  labels : ByteTensor - size: 10000\n",
        "  normalizeGlobal : function: 0xaf06bff0\n",
        "  size : function: 0xaf06c010\n",
        "}\n",
        "\n",
        "Test Data:\t\n",
        "{\n",
        "  data : FloatTensor - size: 1000x1x32x32\n",
        "  normalize : function: 0xaf06cde0\n",
        "  labels : ByteTensor - size: 1000\n",
        "  normalizeGlobal : function: 0xaf06ce88\n",
        "  size : function: 0xaf06cea8\n",
        "}\n",
        "\n"
       ]
      }
     ],
     "prompt_number": 23
    },
    {
     "cell_type": "code",
     "collapsed": false,
     "input": [
      "print('Training Data:')\n",
      "itorch.image(trainData.data[{ {1,10} }])"
     ],
     "language": "python",
     "metadata": {},
     "outputs": [
      {
       "metadata": {},
       "output_type": "pyout",
       "prompt_number": 24,
       "text": [
        "training data:\t\n"
       ]
      },
      {
       "metadata": {
        "png": {
         "height": 68,
         "width": 204
        }
       },
       "output_type": "display_data",
       "png": "[encoded data removed]",
       "text": [
        "Console does not support images"
       ]
      }
     ],
     "prompt_number": 24
    },
    {
     "cell_type": "code",
     "collapsed": false,
     "input": [
      "print('Test Data:')\n",
      "itorch.image(testData.data[{ {1,10} }])"
     ],
     "language": "python",
     "metadata": {},
     "outputs": [
      {
       "metadata": {},
       "output_type": "pyout",
       "prompt_number": 14,
       "text": [
        "test data:\t\n"
       ]
      },
      {
       "metadata": {
        "png": {
         "height": 68,
         "width": 204
        }
       },
       "output_type": "display_data",
       "png": "[encoded data removed]",
       "text": [
        "Console does not support images"
       ]
      }
     ],
     "prompt_number": 14
    },
    {
     "cell_type": "code",
     "collapsed": false,
     "input": [
      "mlp = nn.Sequential()\n",
      "mlp:add(nn.Reshape(1024))\n",
      "mlp:add(nn.Linear(1024,2048)) \n",
      "mlp:add(nn.Tanh())\n",
      "mlp:add(nn.Linear(2048,2048))\n",
      "mlp:add(nn.Tanh())\n",
      "mlp:add(nn.Linear(2048,10))\n",
      "mlp:add(nn.LogSoftMax())\n",
      "\n",
      "criterion = nn.ClassNLLCriterion()\n",
      "classes = {'0','1','2','3','4','5','6','7','8','9',}\n",
      "confusion = optim.ConfusionMatrix(classes)\n",
      "parameters,gradParameters = mlp:getParameters()"
     ],
     "language": "python",
     "metadata": {},
     "outputs": [],
     "prompt_number": 14
    },
    {
     "cell_type": "code",
     "collapsed": false,
     "input": [
      "function Train(data)\n",
      "    local time = sys.clock()\n",
      "    print('SGD on training set:')\n",
      "    print('with batchSize = ' .. batchSize .. '.')\n",
      "    for t=1,data:size(),batchSize do\n",
      "        xlua.progress(t, data:size())\n",
      "        local Inputs = torch.Tensor(batchSize,1,32,32)\n",
      "        local Targets = torch.Tensor(batchSize)\n",
      "        local k = 1\n",
      "        for i=t,math.min(t+batchSize-1,data:size()) do\n",
      "            local dataSlice = data[i]\n",
      "            local Input = dataSlice[1]:clone()\n",
      "            local _,Target = dataSlice[2]:clone():max(1)\n",
      "            Target = Target:squeeze()\n",
      "            Inputs[k] = Input\n",
      "            Targets[k] = Target\n",
      "            k=k+1\n",
      "        end\n",
      "        \n",
      "        local Evaluation = function()\n",
      "            gradParameters:zero()\n",
      "            local Outputs = mlp:forward(Inputs)\n",
      "            local f = criterion:forward(Outputs,Targets)\n",
      "            local df_dw = criterion:backward(Outputs,Targets)\n",
      "            mlp:backward(Inputs,df_dw)\n",
      "            \n",
      "            for i=1,batchSize do\n",
      "                confusion:add(Outputs[i],Targets[i])\n",
      "            end\n",
      "            \n",
      "            return f,gradParameters\n",
      "        end\n",
      "        sgdState = {\n",
      "            learningRate = learningRate,\n",
      "            momentum,\n",
      "            learningRateDecay = 5e-7\n",
      "        }\n",
      "        optim.sgd(Evaluation, parameters, sgdState)\n",
      "        \n",
      "    end\n",
      "\n",
      "    time = sys.clock() - time\n",
      "    time = time / data:size()\n",
      "    print(\"Time to learn 1 sample = \" .. (time*1000) .. 'ms')\n",
      "    print(confusion)\n",
      "    confusion:zero()\n",
      "end"
     ],
     "language": "python",
     "metadata": {},
     "outputs": [],
     "prompt_number": 15
    },
    {
     "cell_type": "code",
     "collapsed": false,
     "input": [
      "function Test(data)\n",
      "    local time = sys.clock()\n",
      "    print('SGD on testing set:')\n",
      "    print('with batchSize = ' .. batchSize .. '.')\n",
      "    for t = 1,data:size(),batchSize do\n",
      "       xlua.progress(t, data:size())\n",
      "       local Inputs = torch.Tensor(batchSize,1,32,32)\n",
      "       local Targets = torch.Tensor(batchSize)\n",
      "       local k = 1\n",
      "       for i = t,math.min(t+batchSize-1,data:size()) do\n",
      "          local dataSlice = data[i]\n",
      "          local Input = dataSlice[1]:clone()\n",
      "          local _,Target = dataSlice[2]:clone():max(1)\n",
      "          Target = Target:squeeze()\n",
      "          Inputs[k] = Input\n",
      "          Targets[k] = Target\n",
      "          k = k + 1\n",
      "       end\n",
      "\n",
      "       local Predictions = mlp:forward(Inputs)\n",
      "\n",
      "       for i = 1,batchSize do\n",
      "          confusion:add(Predictions[i], Targets[i])\n",
      "       end\n",
      "    end\n",
      "\n",
      "    time = sys.clock() - time\n",
      "    time = time / data:size()\n",
      "    print(\"<Time to test 1 sample = \" .. (time*1000) .. 'ms')\n",
      "    print(confusion)\n",
      "    confusion:zero()\n",
      "end"
     ],
     "language": "python",
     "metadata": {},
     "outputs": [],
     "prompt_number": 16
    },
    {
     "cell_type": "code",
     "collapsed": false,
     "input": [
      "Train(trainData)"
     ],
     "language": "python",
     "metadata": {},
     "outputs": [
      {
       "metadata": {},
       "output_type": "pyout",
       "prompt_number": 17,
       "text": [
        "SGD on training set:\t\n",
        "with batchSize = 100.\t\n",
        "Progress: 1 / 10000\t\n"
       ]
      },
      {
       "metadata": {},
       "output_type": "pyout",
       "prompt_number": 17,
       "text": [
        "Progress: 3801 / 10000\t\n"
       ]
      },
      {
       "metadata": {},
       "output_type": "pyout",
       "prompt_number": 17,
       "text": [
        "Progress: 7701 / 10000\t\n"
       ]
      },
      {
       "metadata": {},
       "output_type": "pyout",
       "prompt_number": 17,
       "text": [
        "Time to learn 1 sample = 4.3439131975174ms\t\n",
        "ConfusionMatrix:\n",
        "[[     950       0       4      11       1       9       8       8       8       2]   94.905% \t[class: 0]\n",
        " [       0    1065      12       7       1       9       1       4      24       4]   94.499% \t[class: 1]\n",
        " [      22      36     822      19      21       4      18      14      25      10]   82.947% \t[class: 2]\n",
        " [      10      16      30     854       3      45       7      25      24      18]   82.752% \t[class: 3]\n",
        " [       6       8       8       1     859       3      20       4       6      65]   87.653% \t[class: 4]\n",
        " [      21      15      13      68      27     640      22       4      37      16]   74.160% \t[class: 5]\n",
        " [      13      13      20       4      11      14     924       4       9       2]   91.124% \t[class: 6]\n",
        " [      11      27       8       7      19       4       2     941       6      45]   87.944% \t[class: 7]\n",
        " [       9      39      27      46       8      34      16       6     738      21]   78.178% \t[class: 8]\n",
        " [      13       7       9      21      67       6       4      56       5     790]]  80.777% \t[class: 9]\n",
        " + average row correct: 85.49384355545% \n",
        " + average rowUcol correct (VOC measure): 74.985224604607% \n",
        " + global correct: 85.83%\n",
        "{\n",
        "  valids : FloatTensor - size: 10\n",
        "  mat : LongTensor - size: 10x10\n",
        "  averageUnionValid : 0.74985224604607\n",
        "  _targ_idx : LongTensor - empty\n",
        "  averageValid : 0.8549384355545\n"
       ]
      },
      {
       "metadata": {},
       "output_type": "pyout",
       "prompt_number": 17,
       "text": [
        "  classes : \n",
        "    {\n",
        "      1 : 0\n",
        "      2 : 1\n",
        "      3 : 2\n",
        "      4 : 3\n",
        "      5 : 4\n",
        "      6 : 5\n",
        "      7 : 6\n",
        "      8 : 7\n",
        "      9 : 8\n",
        "      10 : 9\n",
        "    }\n",
        "  _prediction : FloatTensor - size: 10\n",
        "  _pred_idx : LongTensor - size: 1\n",
        "  nclasses : 10\n",
        "  _max : FloatTensor - size: 1\n",
        "  _target : FloatTensor - empty\n",
        "  unionvalids : FloatTensor - size: 10\n",
        "  totalValid : 0.8583\n",
        "}\n",
        "\n"
       ]
      }
     ],
     "prompt_number": 17
    },
    {
     "cell_type": "code",
     "collapsed": false,
     "input": [
      "Test(testData)"
     ],
     "language": "python",
     "metadata": {},
     "outputs": [
      {
       "metadata": {},
       "output_type": "pyout",
       "prompt_number": 18,
       "text": [
        "SGD on testing set:\t\n",
        "with batchSize = 100.\t\n"
       ]
      },
      {
       "metadata": {},
       "output_type": "pyout",
       "prompt_number": 18,
       "text": [
        "<Time to test 1 sample = 1.9892499446869ms\t\n",
        "ConfusionMatrix:\n",
        "[[      83       0       0       0       0       0       1       0       1       0]   97.647% \t[class: 0]\n",
        " [       0     123       0       0       0       0       1       0       2       0]   97.619% \t[class: 1]\n",
        " [       2       1      96       0       0       0       1       4      10       2]   82.759% \t[class: 2]\n",
        " [       0       0       1      89       0      10       1       1       4       1]   83.178% \t[class: 3]\n",
        " [       0       1       1       0      96       0       2       0       4       6]   87.273% \t[class: 4]\n",
        " [       2       0       0       5       0      71       1       0       7       1]   81.609% \t[class: 5]\n",
        " [       3       0       2       0       1       1      74       0       6       0]   85.057% \t[class: 6]\n",
        " [       0       5       6       0       2       0       0      81       2       3]   81.818% \t[class: 7]\n",
        " [       0       0       1       2       3       1       0       1      81       0]   91.011% \t[class: 8]\n",
        " [       0       1       0       1       4       0       0       3       3      82]]  87.234% \t[class: 9]\n",
        " + average row correct: 87.520515918732% \n",
        " + average rowUcol correct (VOC measure): 78.034763932228% \n",
        " + global correct: 87.6%\n",
        "{\n",
        "  valids : FloatTensor - size: 10\n",
        "  mat : LongTensor - size: 10x10\n",
        "  averageUnionValid : 0.78034763932228\n",
        "  _targ_idx : LongTensor - empty\n",
        "  averageValid : 0.87520515918732\n",
        "  classes : \n",
        "    {\n",
        "      1 : 0\n",
        "      2 : 1\n",
        "      3 : 2\n",
        "      4 : 3\n",
        "      5 : 4\n",
        "      6 : 5\n",
        "      7 : 6\n",
        "      8 : 7\n",
        "      9 : 8\n",
        "      10 : 9\n",
        "    }\n",
        "  _prediction : FloatTensor - size: 10\n",
        "  _pred_idx : LongTensor - size: 1\n",
        "  nclasses : 10\n",
        "  _max : FloatTensor - size: 1\n",
        "  "
       ]
      },
      {
       "metadata": {},
       "output_type": "pyout",
       "prompt_number": 18,
       "text": [
        "_target : FloatTensor - empty\n",
        "  unionvalids : FloatTensor - size: 10\n",
        "  totalValid : 0.876\n",
        "}\n",
        "\n"
       ]
      }
     ],
     "prompt_number": 18
    },
    {
     "cell_type": "code",
     "collapsed": false,
     "input": [],
     "language": "python",
     "metadata": {},
     "outputs": []
    }
   ],
   "metadata": {}
  }
 ]
}